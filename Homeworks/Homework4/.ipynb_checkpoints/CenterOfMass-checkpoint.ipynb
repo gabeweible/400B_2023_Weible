{
 "cells": [
  {
   "cell_type": "markdown",
   "metadata": {
    "collapsed": true
   },
   "source": [
    "# Homework 4\n",
    "### Center of Mass Position and Velocity\n",
    "### Gabe Weible"
   ]
  },
  {
   "cell_type": "code",
   "execution_count": 141,
   "metadata": {
    "ExecuteTime": {
     "end_time": "2020-02-04T23:59:21.657237Z",
     "start_time": "2020-02-04T23:59:21.653687Z"
    }
   },
   "outputs": [],
   "source": [
    "# import modules\n",
    "import numpy as np # math\n",
    "import astropy.units as u # units\n",
    "from ReadFile import Read # we made this!"
   ]
  },
  {
   "cell_type": "code",
   "execution_count": 142,
   "metadata": {
    "ExecuteTime": {
     "end_time": "2020-02-04T23:59:24.003059Z",
     "start_time": "2020-02-04T23:59:23.979271Z"
    }
   },
   "outputs": [],
   "source": [
    "class CenterOfMass:\n",
    "    \"\"\"\n",
    "    Purpose: class to define center of mass (CoM) position and velocity properties of a\n",
    "    given galaxy and simulation snapshot. Get snapshot time, total # of particles, and\n",
    "    data when initialized, as well as storing indices for the given particle type and\n",
    "    gives their masses, positions, and velocities. Has 3 methods, one to generally get a\n",
    "    center of mass for a collection of vectors, one to get the galaxy's CoM position for\n",
    "    the given ptype, and the velocity of the CoM for that ptype.\n",
    "\n",
    "    Inputs:\n",
    "        filename : 'str'\n",
    "            snapshot .txt filename to get the CoM for\n",
    "        ptype : 'int'\n",
    "            1 = Halo, 2 = Disk, 3 = Bulge; particle type to get CoM for\n",
    "    \"\"\"\n",
    "\n",
    "    def __init__(self, filename, ptype):\n",
    "        ''' Class to calculate the 6-D phase-space position of a galaxy's center of mass using\n",
    "        a specified particle type. \n",
    "            \n",
    "            PARAMETERS\n",
    "            ----------\n",
    "            filename : `str`\n",
    "                snapshot file\n",
    "            ptype : `int; 1, 2, or 3`\n",
    "                particle type to use for COM calculations\n",
    "        '''\n",
    "     \n",
    "        # read data in the given file using Read\n",
    "        self.time, self.total, self.data = Read(filename)                                                                                             \n",
    "\n",
    "        #create an array to store indices of particles of desired Ptype                                \n",
    "        self.index = np.where(self.data['type'] == ptype)\n",
    "\n",
    "        # store the mass, positions, velocities of only the particles of the given type\n",
    "        self.m = self.data['m'][self.index]\n",
    "        self.x = self.data['x'][self.index]\n",
    "        self.y = self.data['y'][self.index]\n",
    "        self.z = self.data['z'][self.index]\n",
    "        self.vx = self.data['vx'][self.index]\n",
    "        self.vy = self.data['vy'][self.index]\n",
    "        self.vz = self.data['vz'][self.index]\n",
    "\n",
    "\n",
    "    def COMdefine(self,a,b,c,m):\n",
    "        ''' Method to compute the COM of a generic vector quantity by direct weighted averaging.\n",
    "        \n",
    "        PARAMETERS\n",
    "        ----------\n",
    "        a : `float or np.ndarray of floats`\n",
    "            first vector component\n",
    "        b : `float or np.ndarray of floats`\n",
    "            second vector component\n",
    "        c : `float or np.ndarray of floats`\n",
    "            third vector component\n",
    "        m : `float or np.ndarray of floats`\n",
    "            particle masses\n",
    "        \n",
    "        RETURNS\n",
    "        -------\n",
    "        a_com : `float`\n",
    "            first component on the COM vector\n",
    "        b_com : `float`\n",
    "            second component on the COM vector\n",
    "        c_com : `float`\n",
    "            third component on the COM vector\n",
    "        '''\n",
    "        # xcomponent Center of mass\n",
    "        a_com = np.sum(a*m) / np.sum(m)\n",
    "        # ycomponent Center of mass\n",
    "        b_com = np.sum(b*m) / np.sum(m)\n",
    "        # zcomponent Center of mass\n",
    "        c_com = np.sum(c*m) / np.sum(m)\n",
    "        \n",
    "        # return the 3 components separately\n",
    "        return a_com, b_com, c_com\n",
    "    \n",
    "    \n",
    "    def COM_P(self, delta):\n",
    "        '''Method to compute the position of the center of mass of the galaxy \n",
    "        using the shrinking-sphere method.\n",
    "\n",
    "        PARAMETERS\n",
    "        ----------\n",
    "        delta : `float, optional`\n",
    "            error tolerance in kpc. ``Default'' is 0.1 kpc\n",
    "        \n",
    "        RETURNS\n",
    "        ----------\n",
    "        p_COM : `np.ndarray of astropy.Quantity'\n",
    "            3-D position of the center of mass in kpc\n",
    "        '''                                                                     \n",
    "        # Center of Mass Position                                                                                      \n",
    "        ###########################                                                                                    \n",
    "\n",
    "        # Try a first guess at the COM position by calling COMdefine                                                   \n",
    "        x_COM, y_COM, z_COM = self.COMdefine(self.x, self.y, self.z, self.m)\n",
    "        # compute the magnitude of the COM position vector.\n",
    "        r_COM = np.sqrt(x_COM**2 + y_COM**2 + z_COM**2)\n",
    "\n",
    "\n",
    "        # iterative process to determine the center of mass                                                      \n",
    "\n",
    "        # change reference frame to the (first-guess) COM frame                                                                                                                              \n",
    "        x_new = self.x - x_COM\n",
    "        y_new = self.y - y_COM\n",
    "        z_new = self.z - z_COM\n",
    "        r_new = np.sqrt(x_new**2 + y_new**2 + z_new**2)\n",
    "\n",
    "        # find the max 3D distance of all particles from the guessed COM                                               \n",
    "        # will re-start at half that radius (reduced radius)                                                           \n",
    "        r_max = max(r_new) / 2.0\n",
    "        \n",
    "        # initial value for the change in COM position                                                      \n",
    "        # between the first guess above and the new one computed from half that volume\n",
    "        # (will be updated with real values needs to be greater than delta originally)\n",
    "        change = 1000.0 # kpc\n",
    "\n",
    "        # start iterative process to determine center of mass position                                                 \n",
    "        # delta is the tolerance for the difference between the old COM and the new one.    \n",
    "        \n",
    "        while (change > delta):\n",
    "            \n",
    "            # select all particles within the reduced radius (starting from original x,y,z, m)\n",
    "            index2 = np.where(r_new < r_max)\n",
    "            x2 = self.x[index2]\n",
    "            y2 = self.y[index2]\n",
    "            z2 = self.z[index2]\n",
    "            m2 = self.m[index2]\n",
    "\n",
    "            # Refined COM position:                                                                                    \n",
    "            # compute the center of mass position using the particles in the half radius\n",
    "            x_COM2, y_COM2, z_COM2 = self.COMdefine(x2, y2, z2, m2)\n",
    "            # compute the new 3D COM position\n",
    "            r_COM2 = np.sqrt(x_COM2**2 + y_COM2**2 + z_COM2**2)\n",
    "\n",
    "            # determine the difference between the two COM positions                                                                                  \n",
    "            change = np.abs(r_COM - r_COM2)                                                                  \n",
    "\n",
    "            # Before loop continues, reset : r_max, particle separations and COM                                                                                                                        \n",
    "\n",
    "            # Change the frame of reference to the new COM with the half radius                                               \n",
    "            x_new = x2 - x_COM2\n",
    "            y_new = y2 - y_COM2\n",
    "            z_new = z2 - z_COM2\n",
    "            r_new = np.sqrt(x_new**2 + y_new**2 + z_new**2)\n",
    "\n",
    "            # set the center of mass positions to the refined values                                                   \n",
    "            x_COM = x_COM2\n",
    "            y_COM = y_COM2\n",
    "            z_COM = z_COM2\n",
    "            r_COM = r_COM2\n",
    "\n",
    "            # create an array (np.array) to store the COM position                                                                                                                                                       \n",
    "            p_COM = np.array([x_COM, y_COM, z_COM])\n",
    "            \n",
    "            # reduce the volume by a factor of 2 again (for the next loop iteration)                                                                \n",
    "            r_max /= 2.0   \n",
    "\n",
    "        # set the correct units using astropy and round all values\n",
    "        # and then return the COM positon vector\n",
    "        return np.around(p_COM, decimals=2) * u.kpc\n",
    "        \n",
    "        \n",
    "        \n",
    "    def COM_V(self, x_COM, y_COM, z_COM):\n",
    "        ''' Method to compute the center of mass velocity based on the center of mass\n",
    "        position.\n",
    "\n",
    "        PARAMETERS\n",
    "        ----------\n",
    "        x_COM : 'astropy quantity'\n",
    "            The x component of the center of mass in kpc\n",
    "        y_COM : 'astropy quantity'\n",
    "            The y component of the center of mass in kpc\n",
    "        z_COM : 'astropy quantity'\n",
    "            The z component of the center of mass in kpc\n",
    "            \n",
    "        RETURNS\n",
    "        -------\n",
    "        v_COM : `np.ndarray of astropy.Quantity'\n",
    "            3-D velocity of the center of mass in km/s\n",
    "        '''\n",
    "        \n",
    "        # the max distance from the center that we will use to determine \n",
    "        #the center of mass velocity                   \n",
    "        rv_max = 15.0 # kpc\n",
    "\n",
    "        # determine the position of all particles relative to the center of mass position (x_COM, y_COM, z_COM)\n",
    "        # remove units for now, then add at the end again.\n",
    "        xV = self.x - (x_COM / u.kpc)\n",
    "        yV = self.y - (y_COM / u.kpc)\n",
    "        zV = self.z - (z_COM / u.kpc)\n",
    "        rV = np.sqrt(xV**2 + yV**2 + zV**2)\n",
    "        \n",
    "        # determine the indices for those particles within the max radius (rel. to CoM)\n",
    "        indexV = np.where(rV < rv_max)\n",
    "        \n",
    "        # determine the velocities and masses of those particles within the max radius\n",
    "        vx_new = self.vx[indexV]\n",
    "        vy_new = self.vy[indexV]\n",
    "        vz_new = self.vz[indexV]\n",
    "        m_new = self.m[indexV]\n",
    "        \n",
    "        # compute the center of mass velocity using those particles\n",
    "        vx_COM, vy_COM, vz_COM = self.COMdefine(vx_new, vy_new, vz_new, m_new)\n",
    "        \n",
    "        # create an np.array to store the COM velocity\n",
    "        v_COM = np.array([vx_COM, vy_COM, vz_COM])\n",
    "\n",
    "        # return the COM vector\n",
    "        # set the correct units using astropy\n",
    "        # round all values\n",
    "        return np.around(v_COM, decimals=2) * u.km/u.s"
   ]
  },
  {
   "cell_type": "code",
   "execution_count": 143,
   "metadata": {
    "ExecuteTime": {
     "end_time": "2020-02-04T23:59:30.160978Z",
     "start_time": "2020-02-04T23:59:26.220455Z"
    }
   },
   "outputs": [],
   "source": [
    "# Create a Center of mass object for the MW, M31 and M33\n",
    "# below is an example of using the class for MW\n",
    "MW_COM = CenterOfMass(\"MW_000.txt\", 2.0)"
   ]
  },
  {
   "cell_type": "code",
   "execution_count": 144,
   "metadata": {
    "ExecuteTime": {
     "end_time": "2020-02-04T23:59:30.820428Z",
     "start_time": "2020-02-04T23:59:30.761163Z"
    },
    "scrolled": false
   },
   "outputs": [
    {
     "name": "stdout",
     "output_type": "stream",
     "text": [
      "[-0.87  2.39 -1.42] kpc\n",
      "[-0.47  3.41 -1.33] km / s\n"
     ]
    }
   ],
   "source": [
    "# below gives you an example of calling the class's functions\n",
    "# MW:   store the position and velocity COM\n",
    "MW_COM_p = MW_COM.COM_P(0.1)\n",
    "print(MW_COM_p)\n",
    "MW_COM_v = MW_COM.COM_V(MW_COM_p[0], MW_COM_p[1], MW_COM_p[2])\n",
    "print(MW_COM_v)"
   ]
  },
  {
   "cell_type": "markdown",
   "metadata": {},
   "source": [
    "## 6 &nbsp; Testing Your Code"
   ]
  },
  {
   "cell_type": "markdown",
   "metadata": {},
   "source": [
    "### 1."
   ]
  },
  {
   "cell_type": "code",
   "execution_count": 145,
   "metadata": {
    "scrolled": true
   },
   "outputs": [
    {
     "name": "stdout",
     "output_type": "stream",
     "text": [
      "MW disk CoM position vector (t=0): [-0.87  2.39 -1.42] kpc\n",
      "MW disk CoM velocity vector (t=0): [-0.47  3.41 -1.33] km / s\n"
     ]
    }
   ],
   "source": [
    "# MW CoM position and velocity vectors for the disk are already given above,\n",
    "# so, let's print the results again:\n",
    "print(f'MW disk CoM position vector (t=0): {MW_COM_p}')\n",
    "print(f'MW disk CoM velocity vector (t=0): {MW_COM_v}')"
   ]
  },
  {
   "cell_type": "code",
   "execution_count": 146,
   "metadata": {},
   "outputs": [
    {
     "name": "stdout",
     "output_type": "stream",
     "text": [
      "M31 disk CoM position vector (t=0): [-377.66  611.43 -284.64] kpc\n",
      "M31 disk CoM velocity vector (t=0): [ 72.85 -72.14  49.  ] km / s\n"
     ]
    }
   ],
   "source": [
    "# M31 (Andromeda) CoM position and velocity vectors:\n",
    "\n",
    "M31_COM = CenterOfMass(\"M31_000.txt\", 2.0) # Create CenterOfMass object\n",
    "M31_COM_p = M31_COM.COM_P(0.1) # Get the CoM position with a tolerance of 0.1 kpc\n",
    "# Get the velocity of the COM (for particles within 15 kpc of the CoM)\n",
    "M31_COM_v = M31_COM.COM_V(M31_COM_p[0], M31_COM_p[1], M31_COM_p[2])\n",
    "\n",
    "# Print results\n",
    "print(f'M31 disk CoM position vector (t=0): {M31_COM_p}')\n",
    "print(f'M31 disk CoM velocity vector (t=0): {M31_COM_v}')"
   ]
  },
  {
   "cell_type": "code",
   "execution_count": 147,
   "metadata": {},
   "outputs": [
    {
     "name": "stdout",
     "output_type": "stream",
     "text": [
      "M33 disk CoM position vector (t=0): [-476.22  491.44 -412.4 ] kpc\n",
      "M33 disk CoM velocity vector (t=0): [ 44.42 101.78 142.23] km / s\n"
     ]
    }
   ],
   "source": [
    "# M33 (Triangulum) CoM position and velocity vectors:\n",
    "\n",
    "M33_COM = CenterOfMass(\"M33_000.txt\", 2) # Create CenterOfMass object\n",
    "M33_COM_p = M33_COM.COM_P(0.1) # Get the CoM position with a tolerance of 0.1 kpc\n",
    "# Get the velocity of the COM (for particles within 15 kpc of the CoM)\n",
    "M33_COM_v = M33_COM.COM_V(M33_COM_p[0], M33_COM_p[1], M33_COM_p[2])\n",
    "\n",
    "# Print results\n",
    "print(f'M33 disk CoM position vector (t=0): {M33_COM_p}')\n",
    "print(f'M33 disk CoM velocity vector (t=0): {M33_COM_v}')"
   ]
  },
  {
   "cell_type": "markdown",
   "metadata": {},
   "source": [
    "### 2."
   ]
  },
  {
   "cell_type": "code",
   "execution_count": 148,
   "metadata": {},
   "outputs": [
    {
     "name": "stdout",
     "output_type": "stream",
     "text": [
      "Separation between MW and M31: 770.139 kpc\n"
     ]
    }
   ],
   "source": [
    "p_diff = MW_COM_p - M31_COM_p # displacement between centers\n",
    "sep = np.sqrt(p_diff[0]**2 + p_diff[1]**2 + p_diff[2]**2) # Distance formula\n",
    "print(f'Separation between MW and M31: {sep:.3f}') # print results"
   ]
  },
  {
   "cell_type": "code",
   "execution_count": 149,
   "metadata": {},
   "outputs": [
    {
     "name": "stdout",
     "output_type": "stream",
     "text": [
      "Relative speed between MW and M31: 116.691 km / s\n"
     ]
    }
   ],
   "source": [
    "v_diff = MW_COM_v - M31_COM_v # relative velocity\n",
    "rel_v = np.sqrt(v_diff[0]**2 + v_diff[1]**2 + v_diff[2]**2) # magnitude\n",
    "print(f'Relative speed between MW and M31: {rel_v:.3f}') # print results"
   ]
  },
  {
   "cell_type": "markdown",
   "metadata": {},
   "source": [
    "**These values check out with roughly what we saw in Lecture 2.**"
   ]
  },
  {
   "cell_type": "markdown",
   "metadata": {},
   "source": [
    "### 3."
   ]
  },
  {
   "cell_type": "code",
   "execution_count": 150,
   "metadata": {},
   "outputs": [
    {
     "name": "stdout",
     "output_type": "stream",
     "text": [
      "Separation between M31 and M33: 201.083 kpc\n"
     ]
    }
   ],
   "source": [
    "p_diff2 = M31_COM_p - M33_COM_p # displacement between centers\n",
    "sep2 = np.sqrt(p_diff2[0]**2 + p_diff2[1]**2 + p_diff2[2]**2) # distance formula\n",
    "print(f'Separation between M31 and M33: {sep2:.3f}') # print results"
   ]
  },
  {
   "cell_type": "code",
   "execution_count": 151,
   "metadata": {},
   "outputs": [
    {
     "name": "stdout",
     "output_type": "stream",
     "text": [
      "Relative speed between M31 and M33: 199.370 km / s\n"
     ]
    }
   ],
   "source": [
    "v_diff2 = M31_COM_v - M33_COM_v # relative velocity\n",
    "rel_v2 = np.sqrt(v_diff2[0]**2 + v_diff2[1]**2 + v_diff2[2]**2) # magnitude\n",
    "print(f'Relative speed between M31 and M33: {rel_v2:.3f}') # print results"
   ]
  },
  {
   "cell_type": "markdown",
   "metadata": {},
   "source": [
    "### 4."
   ]
  },
  {
   "cell_type": "markdown",
   "metadata": {},
   "source": [
    "I figure that when these galaxies begin to merge, the centers of mass of *all* the stars that comprise them (or originally comprised them) become less important than where the cores of the original galaxies end up, i.e., where the central supermassive black holes/galactic nuclei are. As the galaxies begin to merge, the stars on the outskirts will start doing funky things and will get swapped between the two galaxies/begin to form the new super-galaxy. We don't want these to act as outliers that would skew our determination of where the centers of our original galaxies end up. The iterative process ensures that we get close enough to the centers of our original galaxies that the centers of mass converge to some values (within the specified tolerance), and we can reasonably treat those centers of mass as representing the new positions of the original galactic centers—though now only meaningfully representing the fraction of their original stars which remained within the critical radius for center-of-mass convergence. The other, exterior stars might as well be considered part of the new super-galaxy, methinks."
   ]
  }
 ],
 "metadata": {
  "kernelspec": {
   "display_name": "Python 3 (ipykernel)",
   "language": "python",
   "name": "python3"
  },
  "language_info": {
   "codemirror_mode": {
    "name": "ipython",
    "version": 3
   },
   "file_extension": ".py",
   "mimetype": "text/x-python",
   "name": "python",
   "nbconvert_exporter": "python",
   "pygments_lexer": "ipython3",
   "version": "3.9.12"
  },
  "varInspector": {
   "cols": {
    "lenName": 16,
    "lenType": 16,
    "lenVar": 40
   },
   "kernels_config": {
    "python": {
     "delete_cmd_postfix": "",
     "delete_cmd_prefix": "del ",
     "library": "var_list.py",
     "varRefreshCmd": "print(var_dic_list())"
    },
    "r": {
     "delete_cmd_postfix": ") ",
     "delete_cmd_prefix": "rm(",
     "library": "var_list.r",
     "varRefreshCmd": "cat(var_dic_list()) "
    }
   },
   "types_to_exclude": [
    "module",
    "function",
    "builtin_function_or_method",
    "instance",
    "_Feature"
   ],
   "window_display": false
  }
 },
 "nbformat": 4,
 "nbformat_minor": 2
}
