{
 "cells": [
  {
   "cell_type": "code",
   "execution_count": 1,
   "id": "a6240e26",
   "metadata": {},
   "outputs": [],
   "source": [
    "# import modules\n",
    "import numpy as np # math\n",
    "import astropy.units as u # units\n",
    "from ReadFile import Read # we made this!\n",
    "from CenterOfMass import CenterOfMass\n",
    "\n",
    " # plotting\n",
    "import matplotlib.pyplot as plt\n",
    "import matplotlib\n",
    "%matplotlib inline"
   ]
  },
  {
   "cell_type": "code",
   "execution_count": null,
   "id": "82a19350",
   "metadata": {},
   "outputs": [],
   "source": []
  }
 ],
 "metadata": {
  "kernelspec": {
   "display_name": "Python 3 (ipykernel)",
   "language": "python",
   "name": "python3"
  },
  "language_info": {
   "codemirror_mode": {
    "name": "ipython",
    "version": 3
   },
   "file_extension": ".py",
   "mimetype": "text/x-python",
   "name": "python",
   "nbconvert_exporter": "python",
   "pygments_lexer": "ipython3",
   "version": "3.9.12"
  }
 },
 "nbformat": 4,
 "nbformat_minor": 5
}
