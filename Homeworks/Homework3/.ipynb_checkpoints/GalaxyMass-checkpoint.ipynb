{
 "cells": [
  {
   "cell_type": "markdown",
   "id": "f06dcf17",
   "metadata": {},
   "source": [
    "# Getting the Mass of a Galaxy"
   ]
  },
  {
   "cell_type": "markdown",
   "id": "ba50d7a3",
   "metadata": {},
   "source": [
    "**Imports:**"
   ]
  },
  {
   "cell_type": "code",
   "execution_count": 1,
   "id": "e2c29b9d",
   "metadata": {},
   "outputs": [],
   "source": [
    "from ReadFile import Read # We made this for HW 2\n",
    "import numpy as np\n",
    "import astropy.units as u # import astropy units\n",
    "from astropy import constants as const # import astropy constants\n",
    "from tabulate import tabulate # Will help us make a table"
   ]
  },
  {
   "cell_type": "markdown",
   "id": "62fbe6f9",
   "metadata": {},
   "source": [
    "### ComponentMass Function"
   ]
  },
  {
   "cell_type": "code",
   "execution_count": 2,
   "id": "b59cd51a",
   "metadata": {},
   "outputs": [],
   "source": [
    "def ComponentMass(file, p_type):\n",
    "    \"\"\"\n",
    "    Purpose: return the total mass of any desired galaxy component.\n",
    "    \n",
    "    Inputs:\n",
    "        file : 'string'\n",
    "            .txt galaxy simulation data file to read in\n",
    "        p_type : 'int' or 'float'\n",
    "            particle type, 1 = Halo, 2 = Disk, 3 = Bulge\n",
    "    \n",
    "    Returns:\n",
    "        M : 'astropy quantity'\n",
    "            Total mass of particle type p_type for the galaxy in file in MSun\n",
    "            Units of 10^12 MSun, rounded to three decimal places.\n",
    "    \"\"\"\n",
    "    time, total, data = Read(file) # Read in the file\n",
    "    \n",
    "    # Restrict our data to only particles of the correct type\n",
    "    data = data[data['type'] == p_type]\n",
    "    \n",
    "    # Sum all the masses of type p_type, and add units of 10^12 MSun\n",
    "    M = np.sum(data['m'])*(1e10 * u.Msun / 1e12 * u.Unit(1e12))\n",
    "    \n",
    "    # round to three decimal points\n",
    "    M = np.round(M, 3)\n",
    "\n",
    "    return M # Return the total mass for the given component"
   ]
  },
  {
   "cell_type": "markdown",
   "id": "1640c3a8",
   "metadata": {},
   "source": [
    "**Let's use this now:**"
   ]
  },
  {
   "cell_type": "code",
   "execution_count": 3,
   "id": "7593e205",
   "metadata": {
    "scrolled": true
   },
   "outputs": [
    {
     "name": "stdout",
     "output_type": "stream",
     "text": [
      "Milky Way halo: 1.975 1e+12 solMass\n",
      "Milky Way disk: 0.075 1e+12 solMass\n",
      "Milky Way bulge: 0.010 1e+12 solMass\n",
      "\n",
      "M31 halo: 1.975 1e+12 solMass\n",
      "M31 disk: 0.120 1e+12 solMass\n",
      "M31 bulge: 0.019 1e+12 solMass\n",
      "\n",
      "M33 Way halo: 0.187 1e+12 solMass\n",
      "M33 disk: 0.009 1e+12 solMass\n",
      "M31 bulge: 0.000 1e+12 solMass\n"
     ]
    }
   ],
   "source": [
    "# # Milky Way component masses\n",
    "# MW_halo = ComponentMass('MW_000.txt', 1)\n",
    "# MW_disk = ComponentMass('MW_000.txt', 2)\n",
    "# MW_bulge = ComponentMass('MW_000.txt', 3)\n",
    "\n",
    "# # M31 (Andromeda) component masses\n",
    "# M31_halo = ComponentMass('M31_000.txt', 1)\n",
    "# M31_disk = ComponentMass('M31_000.txt', 2)\n",
    "# M31_bulge = ComponentMass('M31_000.txt', 3)\n",
    "\n",
    "# # M33 (Triangulum) component masses, no bulge\n",
    "# M33_halo = ComponentMass('M33_000.txt', 1)\n",
    "# M33_disk = ComponentMass('M33_000.txt', 2)\n",
    "# M33_bulge = 0 * u.Unit(1e12) * u.Msun # Set to 0 and keep units for math purposes\n",
    "\n",
    "# # Print out our MW values to see if they make sense \n",
    "# # (3 decimal pts. incl. final zeroes)\n",
    "# print(f\"Milky Way halo: {MW_halo:.3f}\")\n",
    "# print(f\"Milky Way disk: {MW_disk:.3f}\")\n",
    "# print(f\"Milky Way bulge: {MW_bulge:.3f}\\n\")\n",
    "\n",
    "# # Same for M31 / Andromeda (3 decimal pts. incl. final zeroes)\n",
    "# print(f\"M31 halo: {MW_halo:.3f}\")\n",
    "# print(f\"M31 disk: {M31_disk:.3f}\")\n",
    "# print(f\"M31 bulge: {M31_bulge:.3f}\\n\")\n",
    "\n",
    "# # And for M33 / Triangulum (3 decimal pts. incl. final zeroes)\n",
    "# print(f\"M33 Way halo: {M33_halo:.3f}\")\n",
    "# print(f\"M33 disk: {M33_disk:.3f}\")\n",
    "# print(f\"M31 bulge: {M33_bulge:.3f}\")"
   ]
  },
  {
   "cell_type": "markdown",
   "id": "ba20c2b6",
   "metadata": {},
   "source": [
    "**More calculations:**"
   ]
  },
  {
   "cell_type": "code",
   "execution_count": 5,
   "id": "1c262861",
   "metadata": {
    "scrolled": false
   },
   "outputs": [],
   "source": [
    "# # Total masses (just add all three components for each):\n",
    "# MW_tot = MW_halo + MW_disk + MW_bulge\n",
    "# M31_tot = M31_halo + M31_disk + M31_bulge\n",
    "# M33_tot = M33_halo + M33_disk + M33_bulge\n",
    "\n",
    "# # For the local group (all three together, sum by component)\n",
    "# LG_halo = MW_halo + M31_halo + M33_halo\n",
    "# LG_disk = MW_disk + M31_disk + M33_disk\n",
    "# LG_bulge = MW_bulge + M31_bulge + M33_bulge\n",
    "# LG_tot = LG_halo + LG_disk + LG_bulge # Add 'em all up\n",
    "\n",
    "# # Baryon fractions (total stellar mass / total mass)\n",
    "# MW_f = (MW_disk + MW_bulge) / MW_tot\n",
    "# M31_f = (M31_disk + M31_bulge) / M31_tot\n",
    "# M33_f = (M33_disk + M33_bulge) / M33_tot\n",
    "# LG_f = (LG_disk + LG_bulge) / LG_tot"
   ]
  },
  {
   "cell_type": "markdown",
   "id": "2e8cb4ad",
   "metadata": {},
   "source": [
    "### Now let's make a table:"
   ]
  },
  {
   "cell_type": "code",
   "execution_count": 7,
   "id": "9a174b8f",
   "metadata": {},
   "outputs": [
    {
     "name": "stdout",
     "output_type": "stream",
     "text": [
      "\\begin{tabular}{llllll}\n",
      "\\hline\n",
      " Galaxy Name         & Halo Mass ($10^{12} \\, \\mathrm{M}_{\\odot}$)   & Disk Mass ($10^{12} \\, \\mathrm{M}_{\\odot}$)   & Bulge Mass ($10^{12} \\, \\mathrm{M}_{\\odot}$)   & Total ($10^{12} \\, \\mathrm{M}_{\\odot}$)   & $f_{\\mathrm{bar}}$   \\\\\n",
      "\\hline\n",
      " Milky Way           & 1.975                                         & 0.075                                         & 0.010                                          & 2.060                                     & 0.041                \\\\\n",
      " M31 (Andromeda)     & 1.921                                         & 0.120                                         & 0.019                                          & 2.060                                     & 0.067                \\\\\n",
      " M33 (Triangulum)    & 0.187                                         & 0.009                                         & 0.000                                          & 0.196                                     & 0.046                \\\\\n",
      " Local Group (All 3) & 4.083                                         & 0.204                                         & 0.029                                          & 4.316                                     & 0.054                \\\\\n",
      "\\hline\n",
      "\\end{tabular}\n"
     ]
    }
   ],
   "source": [
    "# # List of table header strings (w/units typeset in LaTeX, where applicable)\n",
    "# head = ['Galaxy Name', r'Halo Mass ($10^{12} \\, \\mathrm{M}_{\\odot}$)',\n",
    "#         r'Disk Mass ($10^{12} \\, \\mathrm{M}_{\\odot}$)', r'Bulge Mass ($10^{12} \\, \\mathrm{M}_{\\odot}$)',\n",
    "#         r'Total ($10^{12} \\, \\mathrm{M}_{\\odot}$)', r'$f_{\\mathrm{bar}}$']\n",
    "\n",
    "# # Milky Way row, and make sure we keep trailing zeroes on rounded values\n",
    "# MW = ['Milky Way', *(f'{i.value:.3f}' for i in [MW_halo, MW_disk, MW_bulge, MW_tot, MW_f])]\n",
    "\n",
    "# # Same for Andromeda / M31\n",
    "# M31 = ['M31 (Andromeda)', *(f'{i.value:.3f}' for i in [M31_halo, M31_disk, M31_bulge, M31_tot, M31_f])]\n",
    "\n",
    "# # Same for Triangulum / M33\n",
    "# M33 = ['M33 (Triangulum)', *(f'{i.value:.3f}' for i in [M33_halo, M33_disk, M33_bulge, M33_tot, M33_f])]\n",
    "\n",
    "# # And finally, for all three together (the Local Group)\n",
    "# LG = ['Local Group (All 3)', *(f'{i.value:.3f}' for i in [LG_halo, LG_disk, LG_bulge, LG_tot, LG_f])]\n",
    "\n",
    "# # Put all the rows into a table (each element of this list is itself a list)\n",
    "# table =  [head, MW, M31, M33, LG]\n",
    "\n",
    "# # Print LaTeX for the table (will need to modify slightly, probably.)\n",
    "# # kwargs: first row is the header, we want straight-up LaTeX, and keep our numbers how they are\n",
    "# print(tabulate(table, headers='firstrow', tablefmt='latex_raw', disable_numparse=True))"
   ]
  },
  {
   "cell_type": "markdown",
   "id": "5770f38e",
   "metadata": {},
   "source": [
    "**The above printed LaTeX will yield a nice table, albeit needing some minor cosmetic modfications to preference.**"
   ]
  }
 ],
 "metadata": {
  "kernelspec": {
   "display_name": "Python 3 (ipykernel)",
   "language": "python",
   "name": "python3"
  },
  "language_info": {
   "codemirror_mode": {
    "name": "ipython",
    "version": 3
   },
   "file_extension": ".py",
   "mimetype": "text/x-python",
   "name": "python",
   "nbconvert_exporter": "python",
   "pygments_lexer": "ipython3",
   "version": "3.9.12"
  }
 },
 "nbformat": 4,
 "nbformat_minor": 5
}
