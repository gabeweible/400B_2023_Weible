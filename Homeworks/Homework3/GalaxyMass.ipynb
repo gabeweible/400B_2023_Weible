{
 "cells": [
  {
   "cell_type": "markdown",
   "id": "aeafdcb3",
   "metadata": {},
   "source": [
    "# Getting the Mass of a Galaxy"
   ]
  },
  {
   "cell_type": "markdown",
   "id": "48b79b10",
   "metadata": {},
   "source": [
    "## ComponentMass Function"
   ]
  },
  {
   "cell_type": "code",
   "execution_count": null,
   "id": "ebc2799c",
   "metadata": {},
   "outputs": [],
   "source": [
    "def ComponentMass(file, p_type):\n",
    "    \"\"\"\n",
    "    Purpose: return the total mass of any desired galaxy component\n",
    "    \"\"\""
   ]
  }
 ],
 "metadata": {
  "kernelspec": {
   "display_name": "Python 3 (ipykernel)",
   "language": "python",
   "name": "python3"
  },
  "language_info": {
   "codemirror_mode": {
    "name": "ipython",
    "version": 3
   },
   "file_extension": ".py",
   "mimetype": "text/x-python",
   "name": "python",
   "nbconvert_exporter": "python",
   "pygments_lexer": "ipython3",
   "version": "3.9.12"
  }
 },
 "nbformat": 4,
 "nbformat_minor": 5
}
