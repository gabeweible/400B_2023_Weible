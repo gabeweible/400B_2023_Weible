{
 "cells": [
  {
   "cell_type": "markdown",
   "id": "ba19ee1c",
   "metadata": {},
   "source": [
    "# Unpack data read in with ReadFile"
   ]
  },
  {
   "cell_type": "markdown",
   "id": "45365f8c",
   "metadata": {},
   "source": [
    "Imports:"
   ]
  },
  {
   "cell_type": "code",
   "execution_count": 20,
   "id": "f6d03558",
   "metadata": {},
   "outputs": [],
   "source": [
    "import numpy as np\n",
    "import astropy.units as u\n",
    "from ReadFile import Read # We made this"
   ]
  },
  {
   "cell_type": "markdown",
   "id": "87f78c35",
   "metadata": {},
   "source": [
    "Create a ParticleInfo function:"
   ]
  },
  {
   "cell_type": "code",
   "execution_count": 21,
   "id": "3897819d",
   "metadata": {},
   "outputs": [],
   "source": [
    "def ParticleInfo(filename, p_type, p_num):\n",
    "    \"\"\"\n",
    "    Purpose: Get an individual Milky Way simulation\n",
    "    particle's information, and round the values.\n",
    "    \n",
    "    Inputs: data filename (str), particle type (float),\n",
    "    particle number (int)\n",
    "    \n",
    "    Returns: Magnitude of distance in kpc (astropy.units.quantity.Quantity),\n",
    "    magnituide of velocity in km/s (astropy.units.quantity.Quantity),\n",
    "    mass in solar masses (astropy.units.quantity.Quantity)\n",
    "    \"\"\"\n",
    "    # Read in the t=0 file using Read from ReadFile\n",
    "    time, total, data = Read('MW_000.txt')\n",
    "    # Restrict our data to only particles of the correct type\n",
    "    data = data[data['type'] == p_type]\n",
    "    \n",
    "    # Get position coords for the given particle number (start at 1 for 'first')\n",
    "    x, y, z = data['x'][p_num-1], data['y'][p_num-1], data['z'][p_num-1]\n",
    "    # distance w/units (s/o to Pythagoras)\n",
    "    dist = np.sqrt(x**2 + y**2 + z**2) * u.kpc\n",
    "    \n",
    "    # Get velocity components for the given particle\n",
    "    vx, vy, vz =  data['vx'][p_num-1], data['vy'][p_num-1], data['vz'][p_num-1]\n",
    "    # now get the speed of the particle in km/s (idk if Pythagoras gets credit here)\n",
    "    # maybe s/o to Galileo?\n",
    "    v = np.sqrt(vx**2 + vy**2 + vz**2) * (u.km / u.s)\n",
    "    \n",
    "    # Get the particle's mass in solar masses\n",
    "    m = data['m'][p_num-1] * 1e10 * u.Msun\n",
    "    \n",
    "    dist = np.around(dist, 3) ; v = np.around(v, 3) # Round\n",
    "    # Return stuff\n",
    "    return dist, v, m"
   ]
  },
  {
   "cell_type": "markdown",
   "id": "251dc598",
   "metadata": {},
   "source": [
    "## Testing:"
   ]
  },
  {
   "cell_type": "markdown",
   "id": "2266a7b4",
   "metadata": {},
   "source": [
    "Let's do the required testing for HW2 Q5 :)"
   ]
  },
  {
   "cell_type": "code",
   "execution_count": 22,
   "id": "386b27b4",
   "metadata": {},
   "outputs": [
    {
     "name": "stdout",
     "output_type": "stream",
     "text": [
      "4.245 kpc 312.135 km / s 1000000.0 solMass\n"
     ]
    }
   ],
   "source": [
    "# Checking out the 100th particle\n",
    "test_dist, test_v, test_m = ParticleInfo('MW_000.txt', 2.0, 100)\n",
    "print(test_dist, test_v, test_m) # Print results"
   ]
  },
  {
   "cell_type": "markdown",
   "id": "d6947775",
   "metadata": {},
   "source": [
    "Quick conversion for the distance:"
   ]
  },
  {
   "cell_type": "code",
   "execution_count": 23,
   "id": "51f52cd7",
   "metadata": {
    "scrolled": true
   },
   "outputs": [
    {
     "name": "stdout",
     "output_type": "stream",
     "text": [
      "4.245 kpc = 13845.338 lyr\n"
     ]
    }
   ],
   "source": [
    "# .to() to convert units, and we need to round again.\n",
    "ly_test_dist = np.around(test_dist.to(u.lyr), 3)\n",
    "print(test_dist, '=', ly_test_dist)"
   ]
  },
  {
   "cell_type": "markdown",
   "id": "27ff9787",
   "metadata": {},
   "source": [
    "### This conversion is bad!\n",
    "* The true value in ly to 3 decimal points is: 13844.842 lyr\n",
    "* If we wanted to actually use it like this, we should be keeping more sigfigs "
   ]
  },
  {
   "cell_type": "code",
   "execution_count": null,
   "id": "dde889bf",
   "metadata": {},
   "outputs": [],
   "source": []
  }
 ],
 "metadata": {
  "kernelspec": {
   "display_name": "Python 3 (ipykernel)",
   "language": "python",
   "name": "python3"
  },
  "language_info": {
   "codemirror_mode": {
    "name": "ipython",
    "version": 3
   },
   "file_extension": ".py",
   "mimetype": "text/x-python",
   "name": "python",
   "nbconvert_exporter": "python",
   "pygments_lexer": "ipython3",
   "version": "3.9.12"
  }
 },
 "nbformat": 4,
 "nbformat_minor": 5
}
