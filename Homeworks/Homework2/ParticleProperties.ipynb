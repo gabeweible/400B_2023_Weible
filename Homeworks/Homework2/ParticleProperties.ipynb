{
 "cells": [
  {
   "cell_type": "markdown",
   "id": "a04c2d4d",
   "metadata": {},
   "source": [
    "# Unpack data read in with ReadFile"
   ]
  },
  {
   "cell_type": "markdown",
   "id": "b939d012",
   "metadata": {},
   "source": [
    "Imports:"
   ]
  },
  {
   "cell_type": "code",
   "execution_count": 1,
   "id": "a284098e",
   "metadata": {},
   "outputs": [],
   "source": [
    "import numpy as np\n",
    "import astropy.units as u"
   ]
  },
  {
   "cell_type": "markdown",
   "id": "c0d66983",
   "metadata": {},
   "source": [
    "Create a ParticleInfo function:"
   ]
  },
  {
   "cell_type": "code",
   "execution_count": null,
   "id": "20daa198",
   "metadata": {},
   "outputs": [],
   "source": [
    "def ParticleInfo(filename, p_type, p_num):\n",
    "    \"\"\"\n",
    "    Purpose: Get an individual Milky Way simulation\n",
    "    particle's information, and round the values.\n",
    "    \n",
    "    Inputs: data filename (str), particle type (float),\n",
    "    particle number (int)\n",
    "    \n",
    "    Returns: Magnitude of distance in kpc (float), \n",
    "    \"\"\""
   ]
  }
 ],
 "metadata": {
  "kernelspec": {
   "display_name": "Python 3 (ipykernel)",
   "language": "python",
   "name": "python3"
  },
  "language_info": {
   "codemirror_mode": {
    "name": "ipython",
    "version": 3
   },
   "file_extension": ".py",
   "mimetype": "text/x-python",
   "name": "python",
   "nbconvert_exporter": "python",
   "pygments_lexer": "ipython3",
   "version": "3.9.12"
  }
 },
 "nbformat": 4,
 "nbformat_minor": 5
}
