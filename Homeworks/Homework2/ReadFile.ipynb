{
 "cells": [
  {
   "cell_type": "markdown",
   "id": "92cc1fb1",
   "metadata": {},
   "source": [
    "# Let's make a program that will read in our .txt Milky Way data files!"
   ]
  },
  {
   "cell_type": "markdown",
   "id": "b35e9dfb",
   "metadata": {},
   "source": [
    "Imports:"
   ]
  },
  {
   "cell_type": "code",
   "execution_count": 3,
   "id": "13e99ce7",
   "metadata": {},
   "outputs": [],
   "source": [
    "import numpy as np\n",
    "import astropy.units as u"
   ]
  },
  {
   "cell_type": "markdown",
   "id": "54e4529f",
   "metadata": {},
   "source": [
    "Define a *Read* function:"
   ]
  },
  {
   "cell_type": "code",
   "execution_count": 4,
   "id": "8b97ec8b",
   "metadata": {},
   "outputs": [],
   "source": [
    "def Read(filename):\n",
    "    \"\"\"\n",
    "    Purpose: open and read a Milky Way simulation .txt data file\n",
    "    \n",
    "    Input: .txt data filename to read in\n",
    "    \n",
    "    Returns: simulation time, total number of particles, and a data\n",
    "    array containing particle type, mass, and 3D positions and\n",
    "    velocities (in that order)\n",
    "    \"\"\"\n",
    "    file = open(filename, 'r') # 'r' is for read :)\n",
    "    \n",
    "    # First line gives us the time of the snapshot\n",
    "    line1 = file.readline()\n",
    "    label, value = line1.split() # We only really need the value\n",
    "    time = float(value) * u.Myr # Slap on units of Myr\n",
    "    \n",
    "    # Second line gives us the _total_ number of particles\n",
    "    line2 = file.readline()\n",
    "    label, value = line2.split() # Again, only really need the value\n",
    "    total = float(value) # Dimensionless => unitless\n",
    "    \n",
    "    file.close() # Close the file (duh)\n",
    "    \n",
    "    # Get all of our particle data, skipping the 3 lines of header\n",
    "    # and including labels (dtypes assigned automatically)\n",
    "    data = np.genfromtxt(filename, dtype=None, names=True, skip_header=3)\n",
    "    \n",
    "    return time, total, data # We're done *fire emoji*"
   ]
  },
  {
   "cell_type": "markdown",
   "id": "09b3091f",
   "metadata": {},
   "source": [
    "## Testing:"
   ]
  },
  {
   "cell_type": "markdown",
   "id": "396f567b",
   "metadata": {},
   "source": [
    "***Note: this will need to be commented out before creating a .py script from the notebook for the purpose of importing this function***"
   ]
  },
  {
   "cell_type": "code",
   "execution_count": 11,
   "id": "84a93a04",
   "metadata": {},
   "outputs": [
    {
     "name": "stdout",
     "output_type": "stream",
     "text": [
      "0.0 Myr 135000.0\n",
      "1.0\n",
      "0.00394985\n",
      "-0.505945\n"
     ]
    }
   ],
   "source": [
    "# # Read in our t = 0 Myr data file\n",
    "# test_t, test_tot, test_dat = Read('MW_000.txt')\n",
    "\n",
    "# print(test_t, test_tot)\n",
    "# print(test_dat['type'][1]) # 2nd particle type\n",
    "# print(test_dat['m'][0]) # First particle mass\n",
    "# print(test_dat['x'][2]) # Third particle x-coord"
   ]
  },
  {
   "cell_type": "markdown",
   "id": "18ef17b0",
   "metadata": {},
   "source": [
    "All right, I think that seems to work well enough, the test will be commented out now."
   ]
  }
 ],
 "metadata": {
  "kernelspec": {
   "display_name": "Python 3 (ipykernel)",
   "language": "python",
   "name": "python3"
  },
  "language_info": {
   "codemirror_mode": {
    "name": "ipython",
    "version": 3
   },
   "file_extension": ".py",
   "mimetype": "text/x-python",
   "name": "python",
   "nbconvert_exporter": "python",
   "pygments_lexer": "ipython3",
   "version": "3.9.12"
  }
 },
 "nbformat": 4,
 "nbformat_minor": 5
}
