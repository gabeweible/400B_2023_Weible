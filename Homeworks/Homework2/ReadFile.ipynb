{
 "cells": [
  {
   "cell_type": "markdown",
   "id": "d56bc1b7",
   "metadata": {},
   "source": [
    "# Let's make a program that will read in our .txt Milky Way data files!"
   ]
  },
  {
   "cell_type": "markdown",
   "id": "fb48b8ef",
   "metadata": {},
   "source": [
    "Imports:"
   ]
  },
  {
   "cell_type": "code",
   "execution_count": 1,
   "id": "a14da7ea",
   "metadata": {},
   "outputs": [],
   "source": [
    "import numpy as np\n",
    "import astropy.units as u"
   ]
  },
  {
   "cell_type": "markdown",
   "id": "aa3bdadf",
   "metadata": {},
   "source": [
    "**Define a Read function:**"
   ]
  },
  {
   "cell_type": "code",
   "execution_count": null,
   "id": "c241e0e2",
   "metadata": {},
   "outputs": [],
   "source": [
    "def Read(filename):\n",
    "    \"\"\"\n",
    "    Purpose: open and read a Milky Way simulation .txt data file\n",
    "    \n",
    "    Input: .txt data filename to read in\n",
    "    \n",
    "    Returns: simulation time, total number of particles, and a data\n",
    "    array containing \n",
    "    \"\"\"\n",
    "    file = open(filename, 'r') # 'r' is for read :)\n",
    "    \n",
    "    # First line gives us the time of the snapshot\n",
    "    line1 = file.readline()\n",
    "    label, value = line1.split() # We only really need the value\n",
    "    time = float(value) * u.Myr # Slap on units of Myr\n",
    "    \n",
    "    # Second line gives us the _total_ number of particles\n",
    "    line2 = file.readline()\n",
    "    label, value = line2.split() # Again, only really need the value\n",
    "    total = float(value) # Dimensionless => unitless\n",
    "    \n",
    "    "
   ]
  }
 ],
 "metadata": {
  "kernelspec": {
   "display_name": "Python 3 (ipykernel)",
   "language": "python",
   "name": "python3"
  },
  "language_info": {
   "codemirror_mode": {
    "name": "ipython",
    "version": 3
   },
   "file_extension": ".py",
   "mimetype": "text/x-python",
   "name": "python",
   "nbconvert_exporter": "python",
   "pygments_lexer": "ipython3",
   "version": "3.9.12"
  }
 },
 "nbformat": 4,
 "nbformat_minor": 5
}
