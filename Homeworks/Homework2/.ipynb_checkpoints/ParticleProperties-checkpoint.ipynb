{
 "cells": [
  {
   "cell_type": "markdown",
   "id": "86f7ea87",
   "metadata": {},
   "source": [
    "# Unpack data read in with ReadFile"
   ]
  },
  {
   "cell_type": "markdown",
   "id": "26f7be9c",
   "metadata": {},
   "source": [
    "Imports:"
   ]
  },
  {
   "cell_type": "code",
   "execution_count": 1,
   "id": "627c970b",
   "metadata": {},
   "outputs": [],
   "source": [
    "import numpy as np\n",
    "import astropy.units as u"
   ]
  },
  {
   "cell_type": "markdown",
   "id": "a7d9ec99",
   "metadata": {},
   "source": [
    "Create a ParticleInfo function:"
   ]
  },
  {
   "cell_type": "code",
   "execution_count": null,
   "id": "2b6c82fb",
   "metadata": {},
   "outputs": [],
   "source": [
    "def ParticleInfo(filename, p_type, p_num):\n",
    "    \"\"\"\n",
    "    Purpose: Get an individual Milky Way simulation\n",
    "    particle's information, and round the values.\n",
    "    \n",
    "    \n",
    "    \"\"\""
   ]
  }
 ],
 "metadata": {
  "kernelspec": {
   "display_name": "Python 3 (ipykernel)",
   "language": "python",
   "name": "python3"
  },
  "language_info": {
   "codemirror_mode": {
    "name": "ipython",
    "version": 3
   },
   "file_extension": ".py",
   "mimetype": "text/x-python",
   "name": "python",
   "nbconvert_exporter": "python",
   "pygments_lexer": "ipython3",
   "version": "3.9.12"
  }
 },
 "nbformat": 4,
 "nbformat_minor": 5
}
