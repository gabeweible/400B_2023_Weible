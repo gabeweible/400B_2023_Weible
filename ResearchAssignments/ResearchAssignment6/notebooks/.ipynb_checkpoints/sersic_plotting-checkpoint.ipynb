{
 "cells": [
  {
   "cell_type": "markdown",
   "id": "2162cbb0",
   "metadata": {},
   "source": [
    "## Imports:"
   ]
  },
  {
   "cell_type": "code",
   "execution_count": 1,
   "id": "cb0d7b34",
   "metadata": {},
   "outputs": [],
   "source": [
    "import numpy as np\n",
    "\n",
    "# import plotting modules\n",
    "import matplotlib as mpl\n",
    "import matplotlib.pyplot as plt\n",
    "\n",
    "%matplotlib inline\n",
    "\n",
    "# font preferences\n",
    "mpl.rcParams.update({\n",
    "    'font.size': 9,\n",
    "    'text.usetex': True,\n",
    "    'font.family': 'Computer Modern Serif'\n",
    "})\n",
    "\n",
    "# high quality figures\n",
    "plt.rcParams['savefig.dpi'] = 1200\n",
    "plt.rcParams['figure.dpi'] = 1200\n",
    "\n",
    "from scipy.signal import savgol_filter"
   ]
  },
  {
   "cell_type": "markdown",
   "id": "97ae9f0f",
   "metadata": {},
   "source": [
    "## Read in data:"
   ]
  },
  {
   "cell_type": "code",
   "execution_count": 5,
   "id": "ee35422c",
   "metadata": {},
   "outputs": [],
   "source": [
    "# Milky Way:\n",
    "MW_disk_n = np.genfromtxt('/Users/gabeweible/OneDrive/junior/astr_400b/400B_2023_Weible/ResearchAssignments/ResearchAssignment6/sersic_indices/MW_Disk_sersic_indices.txt', delimiter=',')\n",
    "MW_bulge_n = np.genfromtxt('/Users/gabeweible/OneDrive/junior/astr_400b/400B_2023_Weible/ResearchAssignments/ResearchAssignment6/sersic_indices/MW_Bulge_sersic_indices.txt', delimiter=',')\n",
    "\n",
    "# Andromeda:\n",
    "M31_disk_n = np.genfromtxt('/Users/gabeweible/OneDrive/junior/astr_400b/400B_2023_Weible/ResearchAssignments/ResearchAssignment6/sersic_indices/M31_Disk_sersic_indices.txt', delimiter=',')\n",
    "M31_bulge_n = np.genfromtxt('/Users/gabeweible/OneDrive/junior/astr_400b/400B_2023_Weible/ResearchAssignments/ResearchAssignment6/sersic_indices/M31_Bulge_sersic_indices.txt', delimiter=',')\n",
    "\n",
    "# Remove NaN at the end from extra comma:\n",
    "MW_disk_n = MW_disk_n[:-1]\n",
    "MW_bulge_n = MW_bulge_n[:-1]\n",
    "\n",
    "M31_disk_n = M31_disk_n[:-1]\n",
    "M31_bulge_n = M31_bulge_n[:-1]"
   ]
  },
  {
   "cell_type": "markdown",
   "id": "9914ba86",
   "metadata": {},
   "source": [
    "## Smooth:"
   ]
  },
  {
   "cell_type": "code",
   "execution_count": 27,
   "id": "49c41564",
   "metadata": {},
   "outputs": [],
   "source": [
    "sz = 35 # number of points per fit\n",
    "deg = 4 # 2 = quadratic fit, 3 = cubic, etc.\n",
    "\n",
    "MW_disk_s = savgol_filter(MW_disk_n, sz, deg)\n",
    "MW_bulge_s = savgol_filter(MW_bulge_n, sz, deg)\n",
    "\n",
    "M31_disk_s = savgol_filter(M31_disk_n, sz, deg)\n",
    "M31_bulge_s = savgol_filter(M31_bulge_n, sz, deg)"
   ]
  },
  {
   "cell_type": "markdown",
   "id": "229a4f00",
   "metadata": {},
   "source": [
    "## Plot:"
   ]
  },
  {
   "cell_type": "code",
   "execution_count": null,
   "id": "2c005710",
   "metadata": {},
   "outputs": [],
   "source": [
    "# times:\n",
    "t = np.arange(0, 802, 1) * 0.01 / 0.7 # Gyr\n",
    "\n",
    "# linewidth\n",
    "lw = 1.25\n",
    "\n",
    "# opacity\n",
    "a = 0.8\n",
    "\n",
    "fig = plt.figure(figsize=(16/3, 10/3))\n",
    "ax = fig.subplots()\n",
    "\n",
    "# Baseline\n",
    "ax.axhline(3.62, label=r'$n = 3.62$', linestyle='--', color='k', lw=2)\n",
    "\n",
    "ax.plot(t, M31_disk_s, label='M31 Disk', color='r', lw=lw, alpha=a)\n",
    "ax.plot(t, MW_disk_s, label='MW Disk', color='b', lw=lw, alpha=a)\n",
    "ax.plot(t, MW_bulge_s, label='MW Bulge', color='orange', lw=lw, alpha=a)\n",
    "ax.plot(t, M31_bulge_s, label='M31 Bulge', color='g', lw=lw, alpha=a)\n",
    "\n",
    "ax.legend()\n",
    "ax.set(xlabel=r'$t$ (Gyr)', ylabel=r'$n$', title=r\"S\\'ersic Indices v.Simulation Time\")\n",
    "plt.savefig('indices_v_time.png', facecolor='w')\n",
    "\n",
    "plt.show()"
   ]
  },
  {
   "cell_type": "code",
   "execution_count": 16,
   "id": "5906d5f6",
   "metadata": {},
   "outputs": [
    {
     "name": "stdout",
     "output_type": "stream",
     "text": [
      "3.6196607042046143\n"
     ]
    }
   ],
   "source": [
    "a = (np.mean(MW_disk_n[:802//3]) + np.mean(MW_disk_n[2*802//3:])) / 2\n",
    "b = (np.mean(MW_bulge_n[:802//3]) + np.mean(MW_bulge_n[2*802//3:])) / 2\n",
    "     \n",
    "c = (np.mean(M31_disk_n[:802//3]) + np.mean(M31_disk_n[2*802//3:])) / 2\n",
    "d = (np.mean(M31_bulge_n[:802//3]) + np.mean(M31_bulge_n[2*802//3:])) / 2\n",
    "     \n",
    "baseline = (a + b + c + d) / 4\n",
    "print(baseline)"
   ]
  },
  {
   "cell_type": "code",
   "execution_count": null,
   "id": "2bde60f2",
   "metadata": {},
   "outputs": [],
   "source": []
  }
 ],
 "metadata": {
  "kernelspec": {
   "display_name": "Python 3 (ipykernel)",
   "language": "python",
   "name": "python3"
  },
  "language_info": {
   "codemirror_mode": {
    "name": "ipython",
    "version": 3
   },
   "file_extension": ".py",
   "mimetype": "text/x-python",
   "name": "python",
   "nbconvert_exporter": "python",
   "pygments_lexer": "ipython3",
   "version": "3.9.12"
  }
 },
 "nbformat": 4,
 "nbformat_minor": 5
}
