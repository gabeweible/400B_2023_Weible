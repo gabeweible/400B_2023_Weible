{
 "cells": [
  {
   "cell_type": "code",
   "execution_count": 1,
   "metadata": {},
   "outputs": [],
   "source": [
    "# In Class Lab 6\n",
    "# Surface Brightness Profiles : Disks\n"
   ]
  },
  {
   "cell_type": "code",
   "execution_count": 2,
   "metadata": {},
   "outputs": [
    {
     "ename": "ModuleNotFoundError",
     "evalue": "No module named 'ReadFile'",
     "output_type": "error",
     "traceback": [
      "\u001b[0;31m---------------------------------------------------------------------------\u001b[0m",
      "\u001b[0;31mModuleNotFoundError\u001b[0m                       Traceback (most recent call last)",
      "Input \u001b[0;32mIn [2]\u001b[0m, in \u001b[0;36m<cell line: 11>\u001b[0;34m()\u001b[0m\n\u001b[1;32m      8\u001b[0m get_ipython()\u001b[38;5;241m.\u001b[39mrun_line_magic(\u001b[38;5;124m'\u001b[39m\u001b[38;5;124mmatplotlib\u001b[39m\u001b[38;5;124m'\u001b[39m, \u001b[38;5;124m'\u001b[39m\u001b[38;5;124minline\u001b[39m\u001b[38;5;124m'\u001b[39m)\n\u001b[1;32m     10\u001b[0m \u001b[38;5;66;03m# my modules\u001b[39;00m\n\u001b[0;32m---> 11\u001b[0m \u001b[38;5;28;01mfrom\u001b[39;00m \u001b[38;5;21;01mReadFile\u001b[39;00m \u001b[38;5;28;01mimport\u001b[39;00m Read\n\u001b[1;32m     12\u001b[0m \u001b[38;5;28;01mfrom\u001b[39;00m \u001b[38;5;21;01mCenterOfMass\u001b[39;00m \u001b[38;5;28;01mimport\u001b[39;00m CenterOfMass\n\u001b[1;32m     13\u001b[0m \u001b[38;5;28;01mfrom\u001b[39;00m \u001b[38;5;21;01mMassProfile\u001b[39;00m \u001b[38;5;28;01mimport\u001b[39;00m MassProfile\n",
      "\u001b[0;31mModuleNotFoundError\u001b[0m: No module named 'ReadFile'"
     ]
    }
   ],
   "source": [
    "# Load Modules\n",
    "import numpy as np\n",
    "import astropy.units as u\n",
    "\n",
    "# import plotting modules\n",
    "import matplotlib.pyplot as plt\n",
    "import matplotlib\n",
    "%matplotlib inline\n",
    "\n",
    "# my modules\n",
    "from ReadFile import Read\n",
    "from CenterOfMass import CenterOfMass\n",
    "from MassProfile import MassProfile\n",
    "from GalaxyMass import ComponentMass"
   ]
  },
  {
   "cell_type": "markdown",
   "metadata": {},
   "source": [
    "# Lab 6: Sersic Profiles\n",
    "\n",
    "In this lab we will use Homework 5 solutions to compute the mass profile of the Milky Way's Disk. \n",
    "We will turn the mass profile into a density profile and see if we can fit it reasonably well \n",
    "with the surface brightness profile from Lecture 12 Slide 31. "
   ]
  },
  {
   "cell_type": "markdown",
   "metadata": {},
   "source": [
    "# Part A : \n",
    "\n",
    "Create a function called `SurfaceBrightnessDisk` that returns the Surface Brightness Profile in terms of the disk scale length $h_r$ . \n",
    "\n",
    "$I(r) = I_o exp^{-r/hr)}$\n",
    "\n",
    "Where \n",
    "\n",
    "$ L = \\pi I_o h_r^2 (2n!)$ , where $n$ = 1. \n",
    "\n",
    "We will assume a mass to light ratio for the stellar disk of 1.\n",
    "\n",
    "The function should take as input the radius, $h_r$, $n$ and the total stellar mass of the system.\n"
   ]
  },
  {
   "cell_type": "code",
   "execution_count": null,
   "metadata": {},
   "outputs": [],
   "source": [
    "def SurfaceBrightnessDisk(r, hr, mtot):\n",
    "    \"\"\" Function that computes the Sersic Profile for a Disk \n",
    "    System, assuming M/L ~ 1\n",
    "    PARMETERS\n",
    "    ---------\n",
    "        r: `float`\n",
    "            2D Distance from the center of the galaxy (kpc)\n",
    "        hr: `float`\n",
    "            Scale length of the disk (kpc)\n",
    "        mtot: `float`\n",
    "            the total stellar mass (Msun)\n",
    "\n",
    "    RETURNS\n",
    "    -------\n",
    "        I: `array of floats`\n",
    "            the surface brightness profile of the elliptical in Lsun/kpc^2\n",
    "\n",
    "    \"\"\"\n",
    "\n",
    "    # We are assuming M/L = 1, so the total luminosity is:\n",
    "    lum = mtot\n",
    "    \n",
    "    # the effective surface brightness is\n",
    "    # L = piIohr^2(2!)\n",
    "    Io = lum/np.pi/hr**2/2\n",
    "    \n",
    "   \n",
    "    \n",
    "    # The surface brightness\n",
    "    I = Io*np.exp(-r/hr)\n",
    "    \n",
    "    return I\n",
    "    \n",
    "    "
   ]
  },
  {
   "cell_type": "markdown",
   "metadata": {},
   "source": [
    "# Part B\n",
    "\n",
    "Determine the Surface Mass Density Profile for the MW DISK"
   ]
  },
  {
   "cell_type": "code",
   "execution_count": 48,
   "metadata": {},
   "outputs": [],
   "source": [
    "# Create a center of mass object \n",
    "# This lets us store the x, y, z, disk particles \n",
    "MW_COM = CenterOfMass(\"MW_000.txt\", 2)\n",
    "MW_COM_p = MW_COM.COM_P(0.1)\n",
    "x = MW_COM.x-MW_COM_p[0].value\n",
    "y = MW_COM.y-MW_COM_p[1].value\n",
    "z = MW_COM.z-MW_COM_p[2].value\n",
    "m = MW_COM.m\n",
    "\n",
    "#print(x[0],y[0],z[0])"
   ]
  },
  {
   "cell_type": "code",
   "execution_count": 52,
   "metadata": {},
   "outputs": [],
   "source": [
    "# Compute the surface density profile \n",
    "\n",
    "# calculate the radial distances in cylindrical coordinates (and theta, too)\n",
    "cyl_r_mag = np.sqrt(x**2 + y**2) #np.sum(self.alg_r[:, :2]**2, axis=1))\n",
    "cyl_theta = np.arctan2(y,x) # self.alg_r[:, 1], self.alg_r[:, 0])\n",
    "\n",
    "radii = np.arange(1, 0.95 * cyl_r_mag.max(), 0.1)\n",
    "       \n",
    "# create the mask to select particles for each radius\n",
    "# np.newaxis creates a virtual axis to make tmp_r_mag 2 dimensional\n",
    "# so that all radii can be compared simultaneously\n",
    "enc_mask = cyl_r_mag[:, np.newaxis] < np.asarray(radii).flatten()\n",
    "\n",
    "# calculate the enclosed masses \n",
    "# relevant particles will be selected by enc_mask (i.e., *1)\n",
    "# outer particles will be ignored (i.e., *0)\n",
    "m_enc = np.sum(m[:, np.newaxis] * enc_mask, axis=0)\n",
    "\n",
    "# use the difference between nearby elements to get mass in each annulus\n",
    "m_annuli = np.diff(m_enc) # one element less then m_enc\n",
    "Sigma = m_annuli / (np.pi * (radii[1:]**2 - radii[:-1]**2))\n",
    "\n",
    "r_annuli = np.sqrt(radii[1:] * radii[:-1]) \n",
    "# here we choose the geometric mean"
   ]
  },
  {
   "cell_type": "markdown",
   "metadata": {},
   "source": [
    "# Part C\n",
    "\n",
    "a) Create an instance of the MassProfile Class for the MW. Store it as a variable `MW`. \n"
   ]
  },
  {
   "cell_type": "code",
   "execution_count": 35,
   "metadata": {},
   "outputs": [],
   "source": [
    "# a)  Create a mass profile object for the Milky Way \n",
    "#using solution to Homework 5\n",
    "MW = MassProfile(\"MW\",0)"
   ]
  },
  {
   "cell_type": "markdown",
   "metadata": {},
   "source": [
    "b) Create an array of radii from 0.1 kpc to 30 kpc in increments of 0.1\n"
   ]
  },
  {
   "cell_type": "code",
   "execution_count": 36,
   "metadata": {},
   "outputs": [],
   "source": [
    "# b) Array of radii \n",
    "r = np.arange(0.1,50,0.1)"
   ]
  },
  {
   "cell_type": "markdown",
   "metadata": {},
   "source": [
    "c) Define a new array called `disk_mass`, that uses the function `MassEnclosed` within MassProfile to compute the mass profile of the disk.  Get rid of astropy units in `disk_mass` by adding `.value` "
   ]
  },
  {
   "cell_type": "code",
   "execution_count": 37,
   "metadata": {},
   "outputs": [],
   "source": [
    "# c) Use Mass Profile to return the Disk Mass Profile at each value of R\n",
    "# Recall that particle type 2 = disk\n",
    "disk_mass = MW.massEnclosed(2,r).value"
   ]
  },
  {
   "cell_type": "markdown",
   "metadata": {},
   "source": [
    "d) Find the scale length - from the simulation rdisk = 5 kpc"
   ]
  },
  {
   "cell_type": "code",
   "execution_count": 38,
   "metadata": {},
   "outputs": [],
   "source": [
    "hr =  5.0 # disk scale length in kpc"
   ]
  },
  {
   "cell_type": "markdown",
   "metadata": {},
   "source": [
    "e) Disk total mass"
   ]
  },
  {
   "cell_type": "code",
   "execution_count": 41,
   "metadata": {},
   "outputs": [
    {
     "name": "stdout",
     "output_type": "stream",
     "text": [
      "7.50e+10\n"
     ]
    }
   ],
   "source": [
    "# Determine the total mass of the bulge\n",
    "disk_total = ComponentMass(\"MW_000.txt\",2)*1e12\n",
    "print(f\"{disk_total:.2e}\")\n"
   ]
  },
  {
   "cell_type": "markdown",
   "metadata": {},
   "source": [
    "# Part D\n",
    "\n",
    "a) Plot the simulation surface mass density profile of M31's bulge as a proxy for its surface brightness profile (M/L = 1) \n",
    "\n",
    "b) Match the result to a Sersic Profile\n"
   ]
  },
  {
   "cell_type": "code",
   "execution_count": 3,
   "metadata": {},
   "outputs": [
    {
     "ename": "NameError",
     "evalue": "name 'r_annuli' is not defined",
     "output_type": "error",
     "traceback": [
      "\u001b[0;31m---------------------------------------------------------------------------\u001b[0m",
      "\u001b[0;31mNameError\u001b[0m                                 Traceback (most recent call last)",
      "Input \u001b[0;32mIn [3]\u001b[0m, in \u001b[0;36m<cell line: 4>\u001b[0;34m()\u001b[0m\n\u001b[1;32m      1\u001b[0m fig, ax \u001b[38;5;241m=\u001b[39m plt\u001b[38;5;241m.\u001b[39msubplots(figsize\u001b[38;5;241m=\u001b[39m(\u001b[38;5;241m9\u001b[39m, \u001b[38;5;241m8\u001b[39m))\n\u001b[1;32m      3\u001b[0m \u001b[38;5;66;03m# Surface Density Profile\u001b[39;00m\n\u001b[0;32m----> 4\u001b[0m ax\u001b[38;5;241m.\u001b[39mloglog(\u001b[43mr_annuli\u001b[49m, Sigma, lw\u001b[38;5;241m=\u001b[39m\u001b[38;5;241m2\u001b[39m, alpha\u001b[38;5;241m=\u001b[39m\u001b[38;5;241m0.8\u001b[39m,label\u001b[38;5;241m=\u001b[39m\u001b[38;5;124m'\u001b[39m\u001b[38;5;124mSimulated Disk\u001b[39m\u001b[38;5;124m'\u001b[39m)\n\u001b[1;32m      6\u001b[0m \u001b[38;5;66;03m# YOU ADD HERE: Sersic fit to the surface brightness Sersic fit\u001b[39;00m\n\u001b[1;32m      7\u001b[0m \u001b[38;5;66;03m# Sersic n = 4 - de Vaucouleurs\u001b[39;00m\n\u001b[1;32m      8\u001b[0m plt\u001b[38;5;241m.\u001b[39mloglog(r_annuli, SurfaceBrightnessDisk(r_annuli,hr,disk_total)\u001b[38;5;241m/\u001b[39m\u001b[38;5;241m1e10\u001b[39m, color\u001b[38;5;241m=\u001b[39m\u001b[38;5;124m'\u001b[39m\u001b[38;5;124mred\u001b[39m\u001b[38;5;124m'\u001b[39m,\n\u001b[1;32m      9\u001b[0m              linestyle\u001b[38;5;241m=\u001b[39m\u001b[38;5;124m\"\u001b[39m\u001b[38;5;124m-.\u001b[39m\u001b[38;5;124m\"\u001b[39m,linewidth\u001b[38;5;241m=\u001b[39m\u001b[38;5;241m3\u001b[39m, label\u001b[38;5;241m=\u001b[39m\u001b[38;5;124m'\u001b[39m\u001b[38;5;124mSurface Brightness Profile n=1\u001b[39m\u001b[38;5;124m'\u001b[39m)\n",
      "\u001b[0;31mNameError\u001b[0m: name 'r_annuli' is not defined"
     ]
    },
    {
     "data": {
      "image/png": "[encoded data removed]",
      "text/plain": [
       "<Figure size 648x576 with 1 Axes>"
      ]
     },
     "metadata": {
      "needs_background": "light"
     },
     "output_type": "display_data"
    }
   ],
   "source": [
    "fig, ax = plt.subplots(figsize=(9, 8))\n",
    "\n",
    "# Surface Density Profile\n",
    "ax.loglog(r_annuli, Sigma, lw=2, alpha=0.8,label='Simulated Disk')\n",
    "\n",
    "# YOU ADD HERE: Sersic fit to the surface brightness Sersic fit\n",
    "# Sersic n = 4 - de Vaucouleurs\n",
    "plt.loglog(r_annuli, SurfaceBrightnessDisk(r_annuli,hr,disk_total)/1e10, color='red',\n",
    "             linestyle=\"-.\",linewidth=3, label='Surface Brightness Profile n=1')\n",
    "\n",
    "ax.set(xlabel=r\"$r$ [kpc]\", ylabel=r\"$\\Sigma$(disk par) [$10^{10} M_\\odot$ / kpc$^2$]\", title=\"MW Disk\")\n",
    "\n",
    "#set axis limits\n",
    "plt.xlim(1,50)\n",
    "plt.ylim(1e-6,1)\n",
    "\n",
    "ax.legend(loc='best')\n",
    "fig.tight_layout()\n",
    "\n",
    "#plt.savefig('Lab6.png')"
   ]
  },
  {
   "cell_type": "code",
   "execution_count": null,
   "metadata": {
    "collapsed": true
   },
   "outputs": [],
   "source": [
    "# Inner deviation owes to bar. "
   ]
  }
 ],
 "metadata": {
  "kernelspec": {
   "display_name": "Python 3 (ipykernel)",
   "language": "python",
   "name": "python3"
  },
  "language_info": {
   "codemirror_mode": {
    "name": "ipython",
    "version": 3
   },
   "file_extension": ".py",
   "mimetype": "text/x-python",
   "name": "python",
   "nbconvert_exporter": "python",
   "pygments_lexer": "ipython3",
   "version": "3.9.12"
  }
 },
 "nbformat": 4,
 "nbformat_minor": 2
}
