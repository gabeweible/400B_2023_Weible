{
 "cells": [
  {
   "cell_type": "markdown",
   "metadata": {},
   "source": [
    "# In Class Lab 4\n"
   ]
  },
  {
   "cell_type": "code",
   "execution_count": 3,
   "metadata": {},
   "outputs": [],
   "source": [
    "#In Class Lab 4 Template\n",
    "# G Besla ASTR 400B\n",
    "\n",
    "# Load Modules\n",
    "import numpy as np\n",
    "import astropy.units as u\n",
    "\n",
    "# import plotting modules\n",
    "import matplotlib.pyplot as plt\n",
    "import matplotlib\n",
    "%matplotlib inline\n"
   ]
  },
  {
   "cell_type": "markdown",
   "metadata": {},
   "source": [
    "The Figure illustrates the color magnitude diagram (CMD) for the Carina Dwarf along with the interpreted \n",
    "star formation history from isochrone fitting to the CMD.\n",
    "The image is from Tolstoy+2009 ARA&A 47 review paper about dwarf galaxies\n",
    "\n",
    "![Iso](./Lab4_Isochrones.png)\n"
   ]
  },
  {
   "cell_type": "markdown",
   "metadata": {},
   "source": [
    "# This Lab:\n",
    "\n",
    "Modify the template file of your choice to plot isochrones that correspond to the inferred star formation episodes (right panel of Figure 1) to recreate the dominant features of the CMD of Carina (left panel of Figure 1). "
   ]
  },
  {
   "cell_type": "code",
   "execution_count": 4,
   "metadata": {},
   "outputs": [],
   "source": [
    "# Some Notes about the Isochrone Data\n",
    "# DATA From   http://stellar.dartmouth.edu/models/isolf_new.html\n",
    "# files have been modified from download.  ( M/Mo --> M;   Log L/Lo --> L)\n",
    "# removed #'s from all lines except column heading\n",
    "# NOTE SETTINGS USED:  Y = 0.245 default   [Fe/H] = -2.0  alpha/Fe = -0.2\n",
    "# These could all be changed and it would generate a different isochrone\n"
   ]
  },
  {
   "cell_type": "code",
   "execution_count": 5,
   "metadata": {},
   "outputs": [],
   "source": [
    "\n",
    "# Filename for data with Isochrone fit for 1 Gyr\n",
    "# These files are located in the folder IsochroneData\n",
    "filename1 = \"./IsochroneData/Isochrone1.txt\"\n",
    "filename2 = \"./IsochroneData/Isochrone2.txt\"\n",
    "filename3 = \"./IsochroneData/Isochrone3.txt\"\n",
    "filename4 = \"./IsochroneData/Isochrone4.txt\"\n",
    "filename5 = \"./IsochroneData/Isochrone5.txt\"\n",
    "filename6 = \"./IsochroneData/Isochrone6.txt\"\n",
    "filename7 = \"./IsochroneData/Isochrone7.txt\"\n",
    "filename8 = \"./IsochroneData/Isochrone8.txt\"\n",
    "filename9 = \"./IsochroneData/Isochrone9.txt\"\n",
    "filename10 = \"./IsochroneData/Isochrone10.txt\"\n",
    "filename11 = \"./IsochroneData/Isochrone11.txt\"\n",
    "filename12 = \"./IsochroneData/Isochrone12.txt\"\n",
    "filename13 = \"./IsochroneData/Isochrone13.txt\"\n",
    "filename14 = \"./IsochroneData/Isochrone13_5.txt\"\n",
    "\n",
    "files = [filename1, filename2, filename3, filename4, filename5, filename6, filename7,\n",
    "        filename8, filename9, filename10, filename11, filename12, filename13, filename14]"
   ]
  },
  {
   "cell_type": "code",
   "execution_count": 6,
   "metadata": {},
   "outputs": [],
   "source": [
    "# READ IN DATA\n",
    "# \"dtype=None\" means line is split using white spaces\n",
    "# \"skip_header=8\"  skipping the first 8 lines \n",
    "# the flag \"names=True\" creates arrays to store the date\n",
    "#       with the column headers given in line 8 \n",
    "\n",
    "# Read in data for an isochrone corresponding to 1 Gyr\n",
    "data1 = np.genfromtxt(filename1,dtype=None,names=True,skip_header=8)\n",
    "\n"
   ]
  },
  {
   "cell_type": "code",
   "execution_count": 7,
   "metadata": {},
   "outputs": [
    {
     "data": {
      "image/png": "[encoded data removed]",
      "text/plain": [
       "<Figure size 720x720 with 1 Axes>"
      ]
     },
     "metadata": {
      "needs_background": "light"
     },
     "output_type": "display_data"
    }
   ],
   "source": [
    "# Plot Isochrones \n",
    "# For Carina\n",
    "\n",
    "fig = plt.figure(figsize=(10,10))\n",
    "ax = plt.subplot(111)\n",
    "\n",
    "# Plot Isochrones\n",
    "\n",
    "# Isochrone for 1 Gyr\n",
    "# Plotting Color vs. Difference in Color\n",
    "\n",
    "for num in nums:\n",
    "    \n",
    "plt.plot(data1['B']-data1['R'], data1['R'], color='blue', linewidth=5, label='1 Gyr')\n",
    "###EDIT Here, following the same format as the line above \n",
    "\n",
    "\n",
    "\n",
    "# Add axis labels\n",
    "plt.xlabel('B-R', fontsize=22)\n",
    "plt.ylabel('M$_R$', fontsize=22)\n",
    "\n",
    "#set axis limits\n",
    "plt.xlim(-0.5,2)\n",
    "plt.ylim(5,-2.5)\n",
    "\n",
    "#adjust tick label font size\n",
    "label_size = 22\n",
    "matplotlib.rcParams['xtick.labelsize'] = label_size \n",
    "matplotlib.rcParams['ytick.labelsize'] = label_size\n",
    "\n",
    "# add a legend with some customizations.\n",
    "legend = ax.legend(loc='upper left',fontsize='x-large')\n",
    "\n",
    "#add figure text\n",
    "plt.figtext(0.6, 0.15, 'Isochrone Carina', fontsize=22)\n",
    "\n",
    "plt.savefig('IsochroneLab4.png')\n"
   ]
  },
  {
   "cell_type": "markdown",
   "metadata": {
    "collapsed": true
   },
   "source": [
    "# Q2\n",
    "\n",
    "Could there be younger ages than suggested in the Tolstoy plot?\n",
    "Try adding younger isochrones to the above plot.\n",
    "\n",
    "# Q3\n",
    "\n",
    "What do you think might cause the bursts of star formation?\n"
   ]
  },
  {
   "cell_type": "code",
   "execution_count": null,
   "metadata": {
    "collapsed": true
   },
   "outputs": [],
   "source": []
  }
 ],
 "metadata": {
  "kernelspec": {
   "display_name": "Python 3 (ipykernel)",
   "language": "python",
   "name": "python3"
  },
  "language_info": {
   "codemirror_mode": {
    "name": "ipython",
    "version": 3
   },
   "file_extension": ".py",
   "mimetype": "text/x-python",
   "name": "python",
   "nbconvert_exporter": "python",
   "pygments_lexer": "ipython3",
   "version": "3.9.12"
  }
 },
 "nbformat": 4,
 "nbformat_minor": 2
}
