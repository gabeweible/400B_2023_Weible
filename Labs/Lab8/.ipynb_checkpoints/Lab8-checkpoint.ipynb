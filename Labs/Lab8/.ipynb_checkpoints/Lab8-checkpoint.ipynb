{
 "cells": [
  {
   "cell_type": "markdown",
   "metadata": {},
   "source": [
    "# Lab 8 : Star Formation "
   ]
  },
  {
   "cell_type": "code",
   "execution_count": 1,
   "metadata": {},
   "outputs": [],
   "source": [
    "import numpy as np\n",
    "from astropy import units as u\n",
    "from astropy import constants as const\n",
    "\n",
    "import matplotlib\n",
    "import matplotlib.pyplot as plt\n",
    "from matplotlib.colors import LogNorm\n",
    "%matplotlib inline"
   ]
  },
  {
   "cell_type": "markdown",
   "metadata": {},
   "source": [
    "# Part A\n",
    "\n",
    "Create a function that returns the SFR for a given luminosity (NUV, FUV, TIR, Halpha)\n",
    "\n",
    "$Log( {\\rm SFR} (M_\\odot/year)) = Log(Lx (erg/s)) - Log(Cx)$ \n",
    "\n",
    "Including corrections for dust absorption \n",
    "\n",
    "Kennicutt & Evans 2012 ARA&A Equation 12 and Table 1, 2"
   ]
  },
  {
   "cell_type": "code",
   "execution_count": 9,
   "metadata": {},
   "outputs": [],
   "source": [
    "def StarFormationRate(L, Type, TIR=0):\n",
    "    \"\"\"\n",
    "    Function that computes the star formation rate of a galaxy following\n",
    "    Kennicutt & Evans 2012 Eqn 12 (ARA&A 50)\n",
    "    \n",
    "    Inputs:\n",
    "        L : 'float'\n",
    "            Luminosity of the galaxy in a given waveband (erg/s)\n",
    "        Type : 'string'\n",
    "            The wavelength: 'FUV', 'NUV', 'TIR', or 'Halpha'\n",
    "        TIR : 'float'\n",
    "            Total infrared luminosity in erg/s (default = 0)\n",
    "            \n",
    "    Returns:\n",
    "        SFR : 'float'\n",
    "            Log of the star formation rate (Msun/yr)\n",
    "    \"\"\"\n",
    "    \n",
    "    if (Type == 'FUV'):\n",
    "        logCx = 43.35 # Calibration from Table 1 (K&E 2012)\n",
    "        TIRc = 0.46 # Correction for dust absorption from Table 2 (K&E 20212)\n",
    "    elif (Type == 'NUV'):\n",
    "        logCx = 43.17\n",
    "        TIRc = 0.27\n",
    "    elif (Type == 'Halpha'):\n",
    "        logCx = 41.27\n",
    "        TIRc = 0.0024\n",
    "    elif (Type == 'TIR'):\n",
    "        logCx = 43.41\n",
    "        TIRc = 0\n",
    "    else:\n",
    "        print(\"Missing Wavelength: FUV, NUV, Halpha, TIR\")\n",
    "        \n",
    "    # Correct the luminosity for dust using TIR\n",
    "    Lnew = L + TIRc*TIR\n",
    "    \n",
    "    # star formation rate\n",
    "    SFR = np.log10(Lnew) - logCx\n",
    "    \n",
    "    return SFR"
   ]
  },
  {
   "cell_type": "markdown",
   "metadata": {},
   "source": [
    "Let's try to reproduce SFRs derived for galaxies from UV luminosities measured with Galex. \n",
    "\n",
    "Using Table 1 from Lee et al. 2009\n",
    "https://ui.adsabs.harvard.edu/abs/2009ApJ...706..599L/abstract\n",
    "\n",
    "We will use galaxy properties from NED:\n",
    "https://ned.ipac.caltech.edu/"
   ]
  },
  {
   "cell_type": "code",
   "execution_count": 10,
   "metadata": {},
   "outputs": [
    {
     "data": {
      "text/plain": [
       "3.828e+33"
      ]
     },
     "execution_count": 10,
     "metadata": {},
     "output_type": "execute_result"
    }
   ],
   "source": [
    "LsunErgS = const.L_sun.to(u.erg/u.s).value\n",
    "LsunErgS"
   ]
  },
  {
   "cell_type": "code",
   "execution_count": 11,
   "metadata": {},
   "outputs": [
    {
     "name": "stdout",
     "output_type": "stream",
     "text": [
      "-2.3322074670824904\n"
     ]
    }
   ],
   "source": [
    "# WLM Dwarf Irregular Galaxy\n",
    "# From NED : WLM NUV Lum 1.71e7 Lsun\n",
    "# From NED : WLM NIR Lum 2.48e6 Lsun\n",
    "# From NED : WLM FIR luminosity 7.84e5 Lsun\n",
    "\n",
    "NUV_WLM = 1.71e7 * LsunErgS\n",
    "TIR_WLM = 2.48e6 * LsunErgS + 7.84e5 * LsunErgS\n",
    "\n",
    "print(StarFormationRate(NUV_WLM, 'NUV', TIR_WLM))"
   ]
  },
  {
   "cell_type": "code",
   "execution_count": null,
   "metadata": {},
   "outputs": [],
   "source": [
    "#  N24 Sc galaxy\n"
   ]
  },
  {
   "cell_type": "markdown",
   "metadata": {},
   "source": [
    "# Part B Star formation main sequence\n",
    "\n",
    "1) Write a function that returns the average SFR of a galaxy at a given redshift. \n",
    "\n",
    "2) What is the average SFR of a MW mass galaxy today? at z=1?\n",
    "\n",
    "3) Plot the SFR main sequence for a few different redshifts from 1e9 to 1e12 Msun.\n",
    "\n",
    "\n",
    "From Whitaker 2012:\n",
    "\n",
    "log(SFR) = $\\alpha(z)({\\rm log}M_\\ast - 10.5) + \\beta(z)$\n",
    "\n",
    "$\\alpha(z) = 0.7 - 0.13z$\n",
    "\n",
    "$\\beta(z) = 0.38 + 1.14z - 0.19z^2$"
   ]
  },
  {
   "cell_type": "markdown",
   "metadata": {},
   "source": [
    "# Step 1"
   ]
  },
  {
   "cell_type": "code",
   "execution_count": 13,
   "metadata": {},
   "outputs": [],
   "source": [
    "def SFRMainSequence(Mstar, z):\n",
    "    \"\"\"\n",
    "    Function that computes the average SFR of a galaxy as a function of stellar\n",
    "    mass\n",
    "    \n",
    "    Inputs:\n",
    "        Mstar : 'float'\n",
    "            stellar mass of the galaxy in Msun\n",
    "        z : 'float'\n",
    "            redshift\n",
    "    \n",
    "    Outputs:\n",
    "        logSFR : 'float'\n",
    "            log(SFR (Msun / yr))   \n",
    "    \"\"\"\n",
    "    \n",
    "    alpha = 0.7 - 0.13 * z\n",
    "    beta = 0.38 + 1.14 * z - 0.19 * z**2\n",
    "    \n",
    "    logSFR = alpha * (np.log10(Mstar) - 10.5) + beta\n",
    "    \n",
    "    return logSFR"
   ]
  },
  {
   "cell_type": "markdown",
   "metadata": {},
   "source": [
    "# Step 2"
   ]
  },
  {
   "cell_type": "code",
   "execution_count": null,
   "metadata": {},
   "outputs": [],
   "source": [
    "# MW at z=0"
   ]
  },
  {
   "cell_type": "code",
   "execution_count": null,
   "metadata": {},
   "outputs": [],
   "source": [
    "# MW at z = 1\n"
   ]
  },
  {
   "cell_type": "markdown",
   "metadata": {},
   "source": [
    "# Step 3"
   ]
  },
  {
   "cell_type": "code",
   "execution_count": null,
   "metadata": {},
   "outputs": [],
   "source": [
    "# create an array of stellar masses\n"
   ]
  },
  {
   "cell_type": "code",
   "execution_count": null,
   "metadata": {},
   "outputs": [],
   "source": [
    "\n",
    "fig = plt.figure(figsize=(8,8), dpi=500)\n",
    "ax = plt.subplot(111)\n",
    "\n",
    "# add log log plots\n",
    "\n",
    "\n",
    "# Add axis labels\n",
    "plt.xlabel('Log (Mstar (M$_\\odot$))', fontsize=12)\n",
    "plt.ylabel('Log(SFR (M$_\\odot$/year))', fontsize=12)\n",
    "\n",
    "\n",
    "#adjust tick label font size\n",
    "label_size = 12\n",
    "matplotlib.rcParams['xtick.labelsize'] = label_size \n",
    "matplotlib.rcParams['ytick.labelsize'] = label_size\n",
    "\n",
    "# add a legend with some customizations.\n",
    "legend = ax.legend(loc='upper left',fontsize='x-large')\n"
   ]
  },
  {
   "cell_type": "markdown",
   "metadata": {},
   "source": [
    "# Part C  Starbursts\n",
    "\n",
    "Use your `StarFormationRate` code to determine the typical star formation rates for the following systems with the listed Total Infrared Luminosities (TIR): \n",
    "\n",
    "Normal Galaxies: $10^{10}$ L$_\\odot$\n",
    "\n",
    "LIRG: $10^{11}$ L$_\\odot$\n",
    "\n",
    "ULIRG: $10^{12} $ L$_\\odot$\n",
    "\n",
    "HLIRG: $10^{13} $ L$_\\odot$"
   ]
  },
  {
   "cell_type": "code",
   "execution_count": null,
   "metadata": {},
   "outputs": [],
   "source": [
    "# normal galaxies \n"
   ]
  },
  {
   "cell_type": "code",
   "execution_count": null,
   "metadata": {},
   "outputs": [],
   "source": [
    "# LIRGs  \n"
   ]
  },
  {
   "cell_type": "code",
   "execution_count": null,
   "metadata": {},
   "outputs": [],
   "source": [
    "# ULIRGs"
   ]
  },
  {
   "cell_type": "code",
   "execution_count": null,
   "metadata": {},
   "outputs": [],
   "source": [
    "# HLIRGs"
   ]
  },
  {
   "cell_type": "code",
   "execution_count": null,
   "metadata": {},
   "outputs": [],
   "source": []
  }
 ],
 "metadata": {
  "kernelspec": {
   "display_name": "Python 3 (ipykernel)",
   "language": "python",
   "name": "python3"
  },
  "language_info": {
   "codemirror_mode": {
    "name": "ipython",
    "version": 3
   },
   "file_extension": ".py",
   "mimetype": "text/x-python",
   "name": "python",
   "nbconvert_exporter": "python",
   "pygments_lexer": "ipython3",
   "version": "3.9.12"
  }
 },
 "nbformat": 4,
 "nbformat_minor": 4
}
